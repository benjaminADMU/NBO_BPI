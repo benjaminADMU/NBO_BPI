{
 "cells": [
  {
   "cell_type": "markdown",
   "id": "5e55d315",
   "metadata": {
    "colab_type": "text",
    "id": "view-in-github"
   },
   "source": [
    "<a href=\"https://colab.research.google.com/github/benjaminADMU/NBO_BPI/blob/main/Recommendable_Products.ipynb\" target=\"_parent\"><img src=\"https://colab.research.google.com/assets/colab-badge.svg\" alt=\"Open In Colab\"/></a>"
   ]
  },
  {
   "cell_type": "code",
   "execution_count": 1,
   "id": "a80a2363-706a-4f23-aa8d-ec243d0310ae",
   "metadata": {
    "id": "a80a2363-706a-4f23-aa8d-ec243d0310ae"
   },
   "outputs": [],
   "source": [
    "import pandas as pd\n",
    "import numpy as np"
   ]
  },
  {
   "cell_type": "markdown",
   "id": "97131d57-df50-474d-b107-552396c66b43",
   "metadata": {
    "id": "97131d57-df50-474d-b107-552396c66b43"
   },
   "source": [
    "### Load Dataset"
   ]
  },
  {
   "cell_type": "code",
   "execution_count": 2,
   "id": "541750c6-b0f6-4a6f-a708-b86aaa882ab6",
   "metadata": {
    "id": "541750c6-b0f6-4a6f-a708-b86aaa882ab6"
   },
   "outputs": [],
   "source": [
    "df = pd.read_csv('../Data/Products.csv',header=0)\n",
    "pq = pd.read_parquet('../Data/Product Flags/cust_info_prod_202403_processed.parquet')\n",
    "cpq = pd.read_parquet('../Data/Other Data/CUSTOMER INFO.parquet')\n",
    "merged_df = pd.merge(pq, cpq, on='CUST_NUM', how='left')"
   ]
  },
  {
   "cell_type": "markdown",
   "id": "066ddb0f-4faf-4654-856d-9903b0560545",
   "metadata": {
    "id": "066ddb0f-4faf-4654-856d-9903b0560545"
   },
   "source": [
    "### Get Current Products"
   ]
  },
  {
   "cell_type": "code",
   "execution_count": 3,
   "id": "86c704b5-e7ee-4448-8c72-cc12417eb3c5",
   "metadata": {
    "id": "86c704b5-e7ee-4448-8c72-cc12417eb3c5"
   },
   "outputs": [],
   "source": [
    "CURRENT_PRODUCTS = []\n",
    "\n",
    "for index, row in merged_df.iterrows():\n",
    "    client_number = row['CUST_NUM']\n",
    "    products = row[2:18]\n",
    "    current_product_list = products[products == 1].index.tolist()\n",
    "    CURRENT_PRODUCTS.append((client_number, current_product_list))"
   ]
  },
  {
   "cell_type": "code",
   "execution_count": 4,
   "id": "d70b1ded-3977-432b-9225-1048ae3384fb",
   "metadata": {
    "id": "d70b1ded-3977-432b-9225-1048ae3384fb"
   },
   "outputs": [],
   "source": [
    "product_columns = pq.columns[2:18]\n",
    "\n",
    "merged_df['CURRENT_PRODUCTS'] = merged_df[product_columns].apply(\n",
    "    lambda row: [col for col in product_columns if row[col] == 1], axis=1\n",
    ")\n",
    "\n",
    "merged_df = merged_df.drop(columns=product_columns)"
   ]
  },
  {
   "cell_type": "code",
   "execution_count": 5,
   "id": "fedd9f2a-b258-4906-b614-6c2098bc4fe2",
   "metadata": {
    "id": "fedd9f2a-b258-4906-b614-6c2098bc4fe2"
   },
   "outputs": [],
   "source": [
    "eligibility_features = ['CUST_NUM','AGE', 'TENURE','INCOME_SOURCE','SUBSEGMENT','BUSINESS_OWNER', 'IDV_OR_ORG', 'CURRENT_PRODUCTS']\n",
    "merged_df = merged_df[eligibility_features]"
   ]
  },
  {
   "cell_type": "code",
   "execution_count": 6,
   "id": "5c2e624e-616c-40cf-a674-d4ca1bdae47c",
   "metadata": {
    "id": "5c2e624e-616c-40cf-a674-d4ca1bdae47c"
   },
   "outputs": [],
   "source": [
    "columns_to_append = ['AGE', 'TENURE', 'INCOME_SOURCE', 'SUBSEGMENT',\n",
    "                     'BUSINESS_OWNER', 'IDV_OR_ORG', 'CURRENT_PRODUCTS',\n",
    "                     'CREDIT_SCORE', 'DEBT_TO_INCOME_RATIO',\n",
    "                     'EXISTING_DEBTS',\n",
    "                     'DEFAULTS', 'ON_TIME_PAYMENTS']\n",
    "\n",
    "for column in columns_to_append:\n",
    "    df[column] = pd.NA"
   ]
  },
  {
   "cell_type": "markdown",
   "id": "745c312d-3048-463b-bb3c-48d7f018ffb8",
   "metadata": {
    "id": "745c312d-3048-463b-bb3c-48d7f018ffb8"
   },
   "source": [
    "#### Synthetic Data Generator"
   ]
  },
  {
   "cell_type": "code",
   "execution_count": 7,
   "id": "0d056f85-9c77-4104-ab4e-748a8dc5efda",
   "metadata": {
    "id": "0d056f85-9c77-4104-ab4e-748a8dc5efda"
   },
   "outputs": [],
   "source": [
    "class SyntheticDataGenerator:\n",
    "    def __init__(self, num_samples=100):\n",
    "        self.num_samples = num_samples\n",
    "        self.income_levels = {\n",
    "            'Lower Tier': (15000, 25000),\n",
    "            'Middle Tier': (25001, 40000),\n",
    "            'Upper-Middle Tier': (40001, 60000),\n",
    "            'Top Tier': (60001, 100000)\n",
    "        }\n",
    "\n",
    "    def generate_income_and_levels(self):\n",
    "        income_category = np.random.choice(list(self.income_levels.keys()), size=self.num_samples)\n",
    "        income = []\n",
    "        for category in income_category:\n",
    "            lower, upper = self.income_levels[category]\n",
    "            income.append(np.random.randint(lower, upper + 1))\n",
    "        return np.array(income), income_category\n",
    "\n",
    "    def generate_credit_scores(self):\n",
    "        credit_scores = np.random.normal(loc=600, scale=50, size=self.num_samples)\n",
    "        return np.clip(np.round(credit_scores), 300, 850).astype(int)\n",
    "\n",
    "    def generate_existing_debts(self):\n",
    "        existing_debts = np.random.lognormal(mean=np.log(20000), sigma=1, size=self.num_samples)\n",
    "        return existing_debts.astype(int)\n",
    "\n",
    "    def generate_debt_to_income_ratios(self, existing_debts, income):\n",
    "        monthly_debt_payments = existing_debts / 12\n",
    "        dti_ratios = monthly_debt_payments / (income / 12)\n",
    "        return np.clip(dti_ratios, 0, 1)\n",
    "\n",
    "    def generate_payment_history(self):\n",
    "        total_payments = np.random.randint(5, 15, self.num_samples)\n",
    "        defaults = np.random.poisson(lam=0.5, size=self.num_samples)\n",
    "        return total_payments, defaults\n",
    "\n",
    "    def generate_data(self):\n",
    "        income, income_levels = self.generate_income_and_levels()\n",
    "        existing_debts = self.generate_existing_debts()\n",
    "        credit_scores = self.generate_credit_scores()\n",
    "        dti_ratios = self.generate_debt_to_income_ratios(existing_debts, income)\n",
    "        total_payments, defaults = self.generate_payment_history()\n",
    "\n",
    "        data = {\n",
    "            'INCOME_LEVEL': income_levels,\n",
    "            'CREDIT_SCORE': credit_scores,\n",
    "            'DEBT_TO_INCOME_RATIO': dti_ratios,\n",
    "            'EXISTING_DEBTS': existing_debts,\n",
    "            'TOTAL_PAYMENTS': total_payments,\n",
    "            'DEFAULTS': defaults,\n",
    "            'ON_TIME_PAYMENTS': total_payments - defaults,\n",
    "            'INCOME': income\n",
    "        }\n",
    "\n",
    "        return pd.DataFrame(data)\n",
    "\n"
   ]
  },
  {
   "cell_type": "markdown",
   "id": "49bea15c-f2c5-46c0-af2c-0560dcec58d8",
   "metadata": {
    "id": "49bea15c-f2c5-46c0-af2c-0560dcec58d8"
   },
   "source": [
    "#### Add Synthetic Data in the Customer Dataset"
   ]
  },
  {
   "cell_type": "code",
   "execution_count": 8,
   "id": "68445290-34ad-429d-88c0-30c244a9f407",
   "metadata": {
    "id": "68445290-34ad-429d-88c0-30c244a9f407"
   },
   "outputs": [],
   "source": [
    "# Initialize the synthetic data generator\n",
    "generator = SyntheticDataGenerator(num_samples=len(merged_df))\n",
    "\n",
    "# Generate synthetic data\n",
    "synthetic_data = generator.generate_data()\n",
    "\n",
    "# Combine the existing DataFrame with the synthetic data\n",
    "combined_df = pd.concat([merged_df.reset_index(drop=True), synthetic_data.reset_index(drop=True)], axis=1)"
   ]
  },
  {
   "cell_type": "code",
   "execution_count": 9,
   "id": "grvJ_wbjpfut",
   "metadata": {
    "colab": {
     "base_uri": "https://localhost:8080/",
     "height": 278
    },
    "id": "grvJ_wbjpfut",
    "outputId": "b1208ed2-2bc1-45ba-e004-7f3c51c2f563"
   },
   "outputs": [
    {
     "data": {
      "text/html": [
       "<div>\n",
       "<style scoped>\n",
       "    .dataframe tbody tr th:only-of-type {\n",
       "        vertical-align: middle;\n",
       "    }\n",
       "\n",
       "    .dataframe tbody tr th {\n",
       "        vertical-align: top;\n",
       "    }\n",
       "\n",
       "    .dataframe thead th {\n",
       "        text-align: right;\n",
       "    }\n",
       "</style>\n",
       "<table border=\"1\" class=\"dataframe\">\n",
       "  <thead>\n",
       "    <tr style=\"text-align: right;\">\n",
       "      <th></th>\n",
       "      <th>CUST_NUM</th>\n",
       "      <th>AGE</th>\n",
       "      <th>TENURE</th>\n",
       "      <th>INCOME_SOURCE</th>\n",
       "      <th>SUBSEGMENT</th>\n",
       "      <th>BUSINESS_OWNER</th>\n",
       "      <th>IDV_OR_ORG</th>\n",
       "      <th>CURRENT_PRODUCTS</th>\n",
       "      <th>INCOME_LEVEL</th>\n",
       "      <th>CREDIT_SCORE</th>\n",
       "      <th>DEBT_TO_INCOME_RATIO</th>\n",
       "      <th>EXISTING_DEBTS</th>\n",
       "      <th>TOTAL_PAYMENTS</th>\n",
       "      <th>DEFAULTS</th>\n",
       "      <th>ON_TIME_PAYMENTS</th>\n",
       "      <th>INCOME</th>\n",
       "    </tr>\n",
       "  </thead>\n",
       "  <tbody>\n",
       "    <tr>\n",
       "      <th>0</th>\n",
       "      <td>1357.977909</td>\n",
       "      <td>22.0</td>\n",
       "      <td>1.200000</td>\n",
       "      <td>SALARY</td>\n",
       "      <td>Lower Tier</td>\n",
       "      <td>N</td>\n",
       "      <td>INDIVIDUAL</td>\n",
       "      <td>[BB, DEPOSITS]</td>\n",
       "      <td>Lower Tier</td>\n",
       "      <td>568</td>\n",
       "      <td>0.377955</td>\n",
       "      <td>8905</td>\n",
       "      <td>14</td>\n",
       "      <td>3</td>\n",
       "      <td>11</td>\n",
       "      <td>23561</td>\n",
       "    </tr>\n",
       "    <tr>\n",
       "      <th>1</th>\n",
       "      <td>1437.499217</td>\n",
       "      <td>23.0</td>\n",
       "      <td>5.879452</td>\n",
       "      <td>ALLOWANCE</td>\n",
       "      <td>Lower Tier</td>\n",
       "      <td>N</td>\n",
       "      <td>INDIVIDUAL</td>\n",
       "      <td>[BB, DEPOSITS]</td>\n",
       "      <td>Middle Tier</td>\n",
       "      <td>582</td>\n",
       "      <td>0.278472</td>\n",
       "      <td>8778</td>\n",
       "      <td>10</td>\n",
       "      <td>3</td>\n",
       "      <td>7</td>\n",
       "      <td>31522</td>\n",
       "    </tr>\n",
       "    <tr>\n",
       "      <th>2</th>\n",
       "      <td>1606.444521</td>\n",
       "      <td>13.0</td>\n",
       "      <td>2.345205</td>\n",
       "      <td>ALLOWANCE</td>\n",
       "      <td>Upper-Middle Tier</td>\n",
       "      <td>N</td>\n",
       "      <td>INDIVIDUAL</td>\n",
       "      <td>[BB, DEPOSITS]</td>\n",
       "      <td>Middle Tier</td>\n",
       "      <td>661</td>\n",
       "      <td>0.400342</td>\n",
       "      <td>11696</td>\n",
       "      <td>12</td>\n",
       "      <td>0</td>\n",
       "      <td>12</td>\n",
       "      <td>29215</td>\n",
       "    </tr>\n",
       "    <tr>\n",
       "      <th>3</th>\n",
       "      <td>2522.626409</td>\n",
       "      <td>18.0</td>\n",
       "      <td>3.043836</td>\n",
       "      <td>ALLOWANCE</td>\n",
       "      <td>Lower Tier</td>\n",
       "      <td>N</td>\n",
       "      <td>INDIVIDUAL</td>\n",
       "      <td>[BB, DEPOSITS]</td>\n",
       "      <td>Upper-Middle Tier</td>\n",
       "      <td>612</td>\n",
       "      <td>1.000000</td>\n",
       "      <td>91254</td>\n",
       "      <td>7</td>\n",
       "      <td>0</td>\n",
       "      <td>7</td>\n",
       "      <td>58165</td>\n",
       "    </tr>\n",
       "    <tr>\n",
       "      <th>4</th>\n",
       "      <td>3201.700173</td>\n",
       "      <td>22.0</td>\n",
       "      <td>1.528767</td>\n",
       "      <td>INTEREST_SAVINGS_PLACEMENTS_INVESTMENTS</td>\n",
       "      <td>Upper-Middle Tier</td>\n",
       "      <td>N</td>\n",
       "      <td>INDIVIDUAL</td>\n",
       "      <td>[BB, DEPOSITS]</td>\n",
       "      <td>Lower Tier</td>\n",
       "      <td>643</td>\n",
       "      <td>0.160238</td>\n",
       "      <td>3926</td>\n",
       "      <td>10</td>\n",
       "      <td>0</td>\n",
       "      <td>10</td>\n",
       "      <td>24501</td>\n",
       "    </tr>\n",
       "  </tbody>\n",
       "</table>\n",
       "</div>"
      ],
      "text/plain": [
       "      CUST_NUM   AGE    TENURE                            INCOME_SOURCE  \\\n",
       "0  1357.977909  22.0  1.200000                                   SALARY   \n",
       "1  1437.499217  23.0  5.879452                                ALLOWANCE   \n",
       "2  1606.444521  13.0  2.345205                                ALLOWANCE   \n",
       "3  2522.626409  18.0  3.043836                                ALLOWANCE   \n",
       "4  3201.700173  22.0  1.528767  INTEREST_SAVINGS_PLACEMENTS_INVESTMENTS   \n",
       "\n",
       "          SUBSEGMENT BUSINESS_OWNER  IDV_OR_ORG CURRENT_PRODUCTS  \\\n",
       "0         Lower Tier              N  INDIVIDUAL   [BB, DEPOSITS]   \n",
       "1         Lower Tier              N  INDIVIDUAL   [BB, DEPOSITS]   \n",
       "2  Upper-Middle Tier              N  INDIVIDUAL   [BB, DEPOSITS]   \n",
       "3         Lower Tier              N  INDIVIDUAL   [BB, DEPOSITS]   \n",
       "4  Upper-Middle Tier              N  INDIVIDUAL   [BB, DEPOSITS]   \n",
       "\n",
       "        INCOME_LEVEL  CREDIT_SCORE  DEBT_TO_INCOME_RATIO  EXISTING_DEBTS  \\\n",
       "0         Lower Tier           568              0.377955            8905   \n",
       "1        Middle Tier           582              0.278472            8778   \n",
       "2        Middle Tier           661              0.400342           11696   \n",
       "3  Upper-Middle Tier           612              1.000000           91254   \n",
       "4         Lower Tier           643              0.160238            3926   \n",
       "\n",
       "   TOTAL_PAYMENTS  DEFAULTS  ON_TIME_PAYMENTS  INCOME  \n",
       "0              14         3                11   23561  \n",
       "1              10         3                 7   31522  \n",
       "2              12         0                12   29215  \n",
       "3               7         0                 7   58165  \n",
       "4              10         0                10   24501  "
      ]
     },
     "execution_count": 9,
     "metadata": {},
     "output_type": "execute_result"
    }
   ],
   "source": [
    "# Display the combined DataFrame\n",
    "combined_df.head()"
   ]
  },
  {
   "cell_type": "markdown",
   "id": "8d47e013-e925-48b7-94a5-2dd7658c80a3",
   "metadata": {
    "id": "8d47e013-e925-48b7-94a5-2dd7658c80a3"
   },
   "source": [
    "### Generate Eligibility Rules"
   ]
  },
  {
   "cell_type": "markdown",
   "id": "9b781095-9003-4618-867d-61d6e493041e",
   "metadata": {
    "id": "9b781095-9003-4618-867d-61d6e493041e"
   },
   "source": [
    "#### Rename df for convenience"
   ]
  },
  {
   "cell_type": "code",
   "execution_count": 10,
   "id": "aff5b4f2-649d-4ad4-b6db-e4481ec6fa39",
   "metadata": {
    "id": "aff5b4f2-649d-4ad4-b6db-e4481ec6fa39"
   },
   "outputs": [],
   "source": [
    "product_df = df\n",
    "customer_df = combined_df"
   ]
  },
  {
   "cell_type": "markdown",
   "id": "fb211f7b-e0c5-4839-8c7e-f1e3a7a1c693",
   "metadata": {
    "id": "fb211f7b-e0c5-4839-8c7e-f1e3a7a1c693"
   },
   "source": [
    "#### Generate values for criteria to be replaced when data is available"
   ]
  },
  {
   "cell_type": "code",
   "execution_count": 11,
   "id": "da5b4ca9-13e8-40d8-a0e1-a90745171a3b",
   "metadata": {
    "id": "da5b4ca9-13e8-40d8-a0e1-a90745171a3b"
   },
   "outputs": [],
   "source": [
    "# Define ranges based on reasonable assumptions for eligibility criteria\n",
    "def generate_eligibility_values(product_df):\n",
    "    np.random.seed(0)  # For reproducibility\n",
    "\n",
    "    # Generate AGE eligibility\n",
    "    product_df.loc[product_df['AGE'].isna(), 'AGE'] = 18\n",
    "\n",
    "    # Generate TENURE eligibility between 1 and 4 years\n",
    "    product_df.loc[product_df['TENURE'].isna(), 'TENURE'] = np.random.randint(1, 4, size=product_df['TENURE'].isna().sum())\n",
    "\n",
    "    # Populate categorical fields based on possible values observed in customers\n",
    "    income_sources = ['Salary', 'Business', 'Pension', 'Investment']\n",
    "    product_df.loc[product_df['INCOME_SOURCE'].isna(), 'INCOME_SOURCE'] = np.random.choice(income_sources, product_df['INCOME_SOURCE'].isna().sum())\n",
    "\n",
    "    subsegments = ['Lower Tier', 'Middle Tier', 'Upper-Middle Tier', 'Top Tier']\n",
    "    product_df.loc[product_df['SUBSEGMENT'].isna(), 'SUBSEGMENT'] = np.random.choice(subsegments, product_df['SUBSEGMENT'].isna().sum())\n",
    "\n",
    "    product_df.loc[product_df['BUSINESS_OWNER'].isna(), 'BUSINESS_OWNER'] = np.random.choice([True, False], product_df['BUSINESS_OWNER'].isna().sum())\n",
    "    product_df.loc[product_df['IDV_OR_ORG'].isna(), 'IDV_OR_ORG'] = np.random.choice(['Individual', 'Organization'], product_df['IDV_OR_ORG'].isna().sum())\n",
    "\n",
    "    # CREDIT_SCORE eligibility\n",
    "    product_df.loc[product_df['CREDIT_SCORE'].isna(), 'CREDIT_SCORE'] = np.random.randint(300, 400, size=product_df['CREDIT_SCORE'].isna().sum())\n",
    "\n",
    "    # DEBT_TO_INCOME_RATIO eligibility\n",
    "    product_df.loc[product_df['DEBT_TO_INCOME_RATIO'].isna(), 'DEBT_TO_INCOME_RATIO'] = np.random.uniform(0, 5, size=product_df['DEBT_TO_INCOME_RATIO'].isna().sum()).round(2)\n",
    "\n",
    "    # EXISTING_DEBTS eligibility\n",
    "    product_df.loc[product_df['EXISTING_DEBTS'].isna(), 'EXISTING_DEBTS'] = np.random.uniform(0,1000 , size=product_df['EXISTING_DEBTS'].isna().sum()).round(2)\n",
    "\n",
    "    # DEFAULTS eligibility from 0 to 5 (number of defaults)\n",
    "    product_df.loc[product_df['DEFAULTS'].isna(), 'DEFAULTS'] = np.random.randint(0, 5, size=product_df['DEFAULTS'].isna().sum())\n",
    "\n",
    "    # ON_TIME_PAYMENTS eligibility\n",
    "    product_df.loc[product_df['ON_TIME_PAYMENTS'].isna(), 'ON_TIME_PAYMENTS'] = np.random.uniform(0, 5, size=product_df['ON_TIME_PAYMENTS'].isna().sum()).round(2)\n",
    "\n",
    "    return product_df\n"
   ]
  },
  {
   "cell_type": "code",
   "execution_count": 12,
   "id": "d997de93-3b2f-4332-af6e-a28ad2f7aca0",
   "metadata": {
    "id": "d997de93-3b2f-4332-af6e-a28ad2f7aca0"
   },
   "outputs": [
    {
     "name": "stderr",
     "output_type": "stream",
     "text": [
      "/var/folders/jv/0sr2mpzx5klfxvmfj4s39_vm0000gn/T/ipykernel_32532/3429502202.py:9: DeprecationWarning: In a future version, `df.iloc[:, i] = newvals` will attempt to set the values inplace instead of always setting a new array. To retain the old behavior, use either `df[df.columns[i]] = newvals` or, if columns are non-unique, `df.isetitem(i, newvals)`\n",
      "  product_df.loc[product_df['TENURE'].isna(), 'TENURE'] = np.random.randint(1, 4, size=product_df['TENURE'].isna().sum())\n",
      "/var/folders/jv/0sr2mpzx5klfxvmfj4s39_vm0000gn/T/ipykernel_32532/3429502202.py:18: DeprecationWarning: In a future version, `df.iloc[:, i] = newvals` will attempt to set the values inplace instead of always setting a new array. To retain the old behavior, use either `df[df.columns[i]] = newvals` or, if columns are non-unique, `df.isetitem(i, newvals)`\n",
      "  product_df.loc[product_df['BUSINESS_OWNER'].isna(), 'BUSINESS_OWNER'] = np.random.choice([True, False], product_df['BUSINESS_OWNER'].isna().sum())\n",
      "/var/folders/jv/0sr2mpzx5klfxvmfj4s39_vm0000gn/T/ipykernel_32532/3429502202.py:22: DeprecationWarning: In a future version, `df.iloc[:, i] = newvals` will attempt to set the values inplace instead of always setting a new array. To retain the old behavior, use either `df[df.columns[i]] = newvals` or, if columns are non-unique, `df.isetitem(i, newvals)`\n",
      "  product_df.loc[product_df['CREDIT_SCORE'].isna(), 'CREDIT_SCORE'] = np.random.randint(300, 400, size=product_df['CREDIT_SCORE'].isna().sum())\n",
      "/var/folders/jv/0sr2mpzx5klfxvmfj4s39_vm0000gn/T/ipykernel_32532/3429502202.py:25: DeprecationWarning: In a future version, `df.iloc[:, i] = newvals` will attempt to set the values inplace instead of always setting a new array. To retain the old behavior, use either `df[df.columns[i]] = newvals` or, if columns are non-unique, `df.isetitem(i, newvals)`\n",
      "  product_df.loc[product_df['DEBT_TO_INCOME_RATIO'].isna(), 'DEBT_TO_INCOME_RATIO'] = np.random.uniform(0, 5, size=product_df['DEBT_TO_INCOME_RATIO'].isna().sum()).round(2)\n",
      "/var/folders/jv/0sr2mpzx5klfxvmfj4s39_vm0000gn/T/ipykernel_32532/3429502202.py:28: DeprecationWarning: In a future version, `df.iloc[:, i] = newvals` will attempt to set the values inplace instead of always setting a new array. To retain the old behavior, use either `df[df.columns[i]] = newvals` or, if columns are non-unique, `df.isetitem(i, newvals)`\n",
      "  product_df.loc[product_df['EXISTING_DEBTS'].isna(), 'EXISTING_DEBTS'] = np.random.uniform(0,1000 , size=product_df['EXISTING_DEBTS'].isna().sum()).round(2)\n",
      "/var/folders/jv/0sr2mpzx5klfxvmfj4s39_vm0000gn/T/ipykernel_32532/3429502202.py:31: DeprecationWarning: In a future version, `df.iloc[:, i] = newvals` will attempt to set the values inplace instead of always setting a new array. To retain the old behavior, use either `df[df.columns[i]] = newvals` or, if columns are non-unique, `df.isetitem(i, newvals)`\n",
      "  product_df.loc[product_df['DEFAULTS'].isna(), 'DEFAULTS'] = np.random.randint(0, 5, size=product_df['DEFAULTS'].isna().sum())\n",
      "/var/folders/jv/0sr2mpzx5klfxvmfj4s39_vm0000gn/T/ipykernel_32532/3429502202.py:34: DeprecationWarning: In a future version, `df.iloc[:, i] = newvals` will attempt to set the values inplace instead of always setting a new array. To retain the old behavior, use either `df[df.columns[i]] = newvals` or, if columns are non-unique, `df.isetitem(i, newvals)`\n",
      "  product_df.loc[product_df['ON_TIME_PAYMENTS'].isna(), 'ON_TIME_PAYMENTS'] = np.random.uniform(0, 5, size=product_df['ON_TIME_PAYMENTS'].isna().sum()).round(2)\n"
     ]
    }
   ],
   "source": [
    "product_df = generate_eligibility_values(product_df)"
   ]
  },
  {
   "cell_type": "markdown",
   "id": "TIYXrj9wcOfw",
   "metadata": {
    "id": "TIYXrj9wcOfw"
   },
   "source": [
    "### Create a checker if a customer is eligible"
   ]
  },
  {
   "cell_type": "code",
   "execution_count": 13,
   "id": "0dbfba5a-700e-40e9-9719-ef87d0d46b87",
   "metadata": {
    "id": "0dbfba5a-700e-40e9-9719-ef87d0d46b87",
    "scrolled": true
   },
   "outputs": [],
   "source": [
    "def check_product_eligibility(customer_df, product_df):\n",
    "    eligibility_results = []\n",
    "\n",
    "    # Go through each product and evaluate eligibility in vectorized form\n",
    "    for _, product in product_df.iterrows():\n",
    "        # Define conditions with fallbacks (use fillna to handle missing values if necessary)\n",
    "        age_eligible = customer_df['AGE'] >= product['AGE']\n",
    "        tenure_eligible = customer_df['TENURE'] >= product['TENURE']\n",
    "        credit_score_eligible = customer_df['CREDIT_SCORE'] >= product['CREDIT_SCORE']\n",
    "        defaults_eligible = customer_df['DEFAULTS'] <= product['DEFAULTS']\n",
    "\n",
    "        # Check if the product is not already owned, or if \"current_products\" is empty\n",
    "        product_not_owned = customer_df['CURRENT_PRODUCTS'].apply(lambda x: product['Product_Name'] not in x) if 'current_products' in customer_df else True\n",
    "\n",
    "        # Combine all criteria into a single eligibility condition\n",
    "        eligible_customers = customer_df[age_eligible & tenure_eligible & credit_score_eligible & defaults_eligible & product_not_owned]\n",
    "\n",
    "        # For eligible customers, append the product name to their eligibility list\n",
    "        for cust_num in eligible_customers['CUST_NUM']:\n",
    "            eligibility_results.append({'CUST_NUM': cust_num, 'Eligible_Product': product['Product_Name']})\n",
    "\n",
    "    # Create a DataFrame from the eligibility results list\n",
    "    eligibility_df = pd.DataFrame(eligibility_results)\n",
    "\n",
    "    # Aggregate eligible products for each customer\n",
    "    eligibility_summary_df = eligibility_df.groupby('CUST_NUM')['Eligible_Product'].apply(list).reset_index()\n",
    "    eligibility_summary_df.columns = ['CUST_NUM', 'Eligible_Products']\n",
    "\n",
    "    return eligibility_summary_df\n",
    "\n",
    "\n"
   ]
  },
  {
   "cell_type": "code",
   "execution_count": 14,
   "id": "i_Bqn_gft1jz",
   "metadata": {
    "colab": {
     "base_uri": "https://localhost:8080/",
     "height": 206
    },
    "id": "i_Bqn_gft1jz",
    "outputId": "cbf33f8d-c0f9-4b37-d98b-59abf2e47794"
   },
   "outputs": [
    {
     "data": {
      "text/html": [
       "<div>\n",
       "<style scoped>\n",
       "    .dataframe tbody tr th:only-of-type {\n",
       "        vertical-align: middle;\n",
       "    }\n",
       "\n",
       "    .dataframe tbody tr th {\n",
       "        vertical-align: top;\n",
       "    }\n",
       "\n",
       "    .dataframe thead th {\n",
       "        text-align: right;\n",
       "    }\n",
       "</style>\n",
       "<table border=\"1\" class=\"dataframe\">\n",
       "  <thead>\n",
       "    <tr style=\"text-align: right;\">\n",
       "      <th></th>\n",
       "      <th>CUST_NUM</th>\n",
       "      <th>Eligible_Products</th>\n",
       "    </tr>\n",
       "  </thead>\n",
       "  <tbody>\n",
       "    <tr>\n",
       "      <th>0</th>\n",
       "      <td>8.000000</td>\n",
       "      <td>[Corporate Credit Cards, Corporate Credit Card...</td>\n",
       "    </tr>\n",
       "    <tr>\n",
       "      <th>1</th>\n",
       "      <td>36.633318</td>\n",
       "      <td>[Corporate Credit Cards, Corporate Credit Card...</td>\n",
       "    </tr>\n",
       "    <tr>\n",
       "      <th>2</th>\n",
       "      <td>37.735925</td>\n",
       "      <td>[Corporate Credit Cards, Corporate Credit Card...</td>\n",
       "    </tr>\n",
       "    <tr>\n",
       "      <th>3</th>\n",
       "      <td>47.770284</td>\n",
       "      <td>[Corporate Credit Cards, Corporate Credit Card...</td>\n",
       "    </tr>\n",
       "    <tr>\n",
       "      <th>4</th>\n",
       "      <td>53.141321</td>\n",
       "      <td>[Corporate Credit Cards, Corporate Credit Card...</td>\n",
       "    </tr>\n",
       "  </tbody>\n",
       "</table>\n",
       "</div>"
      ],
      "text/plain": [
       "    CUST_NUM                                  Eligible_Products\n",
       "0   8.000000  [Corporate Credit Cards, Corporate Credit Card...\n",
       "1  36.633318  [Corporate Credit Cards, Corporate Credit Card...\n",
       "2  37.735925  [Corporate Credit Cards, Corporate Credit Card...\n",
       "3  47.770284  [Corporate Credit Cards, Corporate Credit Card...\n",
       "4  53.141321  [Corporate Credit Cards, Corporate Credit Card..."
      ]
     },
     "execution_count": 14,
     "metadata": {},
     "output_type": "execute_result"
    }
   ],
   "source": [
    "# Usage example:\n",
    "eligibility_df = check_product_eligibility(customer_df, product_df)\n",
    "eligibility_df.head()"
   ]
  },
  {
   "cell_type": "markdown",
   "id": "Je7I8qZX9EKW",
   "metadata": {
    "id": "Je7I8qZX9EKW"
   },
   "source": [
    "### Create dataframe for the list of customers available for each product"
   ]
  },
  {
   "cell_type": "code",
   "execution_count": 15,
   "id": "8l407NuR8itV",
   "metadata": {
    "id": "8l407NuR8itV"
   },
   "outputs": [],
   "source": [
    "# Initialize a dictionary to store products as keys and list of CUST_NUM as values\n",
    "product_customers = {}\n",
    "\n",
    "# Iterate over each row in eligibility_df\n",
    "for _, row in eligibility_df.iterrows():\n",
    "    cust_num = row['CUST_NUM']\n",
    "    for product in row['Eligible_Products']:\n",
    "        # Add the CUST_NUM to the product's list in the dictionary\n",
    "        if product not in product_customers:\n",
    "            product_customers[product] = []\n",
    "        product_customers[product].append(cust_num)\n",
    "\n",
    "# Convert the dictionary to a DataFrame where each product is a column\n",
    "cproduct_df = pd.DataFrame(dict([(k, pd.Series(v)) for k, v in product_customers.items()]))\n",
    "\n"
   ]
  },
  {
   "cell_type": "code",
   "execution_count": 16,
   "id": "r27qnggK8oKd",
   "metadata": {
    "colab": {
     "base_uri": "https://localhost:8080/",
     "height": 307
    },
    "id": "r27qnggK8oKd",
    "outputId": "021bcbb1-c53b-46f1-89db-cd26f171af32"
   },
   "outputs": [
    {
     "data": {
      "text/html": [
       "<div>\n",
       "<style scoped>\n",
       "    .dataframe tbody tr th:only-of-type {\n",
       "        vertical-align: middle;\n",
       "    }\n",
       "\n",
       "    .dataframe tbody tr th {\n",
       "        vertical-align: top;\n",
       "    }\n",
       "\n",
       "    .dataframe thead th {\n",
       "        text-align: right;\n",
       "    }\n",
       "</style>\n",
       "<table border=\"1\" class=\"dataframe\">\n",
       "  <thead>\n",
       "    <tr style=\"text-align: right;\">\n",
       "      <th></th>\n",
       "      <th>Corporate Credit Cards</th>\n",
       "      <th>Corporate Credit Cards - Credit</th>\n",
       "      <th>Corporate Credit Cards - Prepaid</th>\n",
       "      <th>Housing loans</th>\n",
       "      <th>Other loans</th>\n",
       "      <th>Leasing</th>\n",
       "      <th>Short-term loans</th>\n",
       "      <th>Supplier Finance</th>\n",
       "      <th>Distributor Fiannce</th>\n",
       "      <th>Investments (AMTC/BIMI)</th>\n",
       "      <th>...</th>\n",
       "      <th>Auto loans</th>\n",
       "      <th>Operating lease</th>\n",
       "      <th>RPNL/STL/KNCL</th>\n",
       "      <th>Bills purchased</th>\n",
       "      <th>Duties payment</th>\n",
       "      <th>Disbursements - government</th>\n",
       "      <th>Disbursements - digital</th>\n",
       "      <th>Liquidity</th>\n",
       "      <th>Other current</th>\n",
       "      <th>Peso Time Deposit</th>\n",
       "    </tr>\n",
       "  </thead>\n",
       "  <tbody>\n",
       "    <tr>\n",
       "      <th>0</th>\n",
       "      <td>8.000000</td>\n",
       "      <td>8.000000</td>\n",
       "      <td>8.000000</td>\n",
       "      <td>8.000000</td>\n",
       "      <td>8.000000</td>\n",
       "      <td>8.000000</td>\n",
       "      <td>8.000000</td>\n",
       "      <td>8.000000</td>\n",
       "      <td>8.000000</td>\n",
       "      <td>8.000000</td>\n",
       "      <td>...</td>\n",
       "      <td>47.770284</td>\n",
       "      <td>47.770284</td>\n",
       "      <td>47.770284</td>\n",
       "      <td>47.770284</td>\n",
       "      <td>47.770284</td>\n",
       "      <td>47.770284</td>\n",
       "      <td>47.770284</td>\n",
       "      <td>47.770284</td>\n",
       "      <td>47.770284</td>\n",
       "      <td>47.770284</td>\n",
       "    </tr>\n",
       "    <tr>\n",
       "      <th>1</th>\n",
       "      <td>36.633318</td>\n",
       "      <td>36.633318</td>\n",
       "      <td>36.633318</td>\n",
       "      <td>36.633318</td>\n",
       "      <td>36.633318</td>\n",
       "      <td>36.633318</td>\n",
       "      <td>36.633318</td>\n",
       "      <td>36.633318</td>\n",
       "      <td>36.633318</td>\n",
       "      <td>36.633318</td>\n",
       "      <td>...</td>\n",
       "      <td>53.141321</td>\n",
       "      <td>53.141321</td>\n",
       "      <td>53.141321</td>\n",
       "      <td>53.141321</td>\n",
       "      <td>53.141321</td>\n",
       "      <td>53.141321</td>\n",
       "      <td>53.141321</td>\n",
       "      <td>53.141321</td>\n",
       "      <td>53.141321</td>\n",
       "      <td>53.141321</td>\n",
       "    </tr>\n",
       "    <tr>\n",
       "      <th>2</th>\n",
       "      <td>37.735925</td>\n",
       "      <td>37.735925</td>\n",
       "      <td>37.735925</td>\n",
       "      <td>37.735925</td>\n",
       "      <td>37.735925</td>\n",
       "      <td>37.735925</td>\n",
       "      <td>37.735925</td>\n",
       "      <td>37.735925</td>\n",
       "      <td>37.735925</td>\n",
       "      <td>37.735925</td>\n",
       "      <td>...</td>\n",
       "      <td>56.035703</td>\n",
       "      <td>56.035703</td>\n",
       "      <td>56.035703</td>\n",
       "      <td>56.035703</td>\n",
       "      <td>56.035703</td>\n",
       "      <td>56.035703</td>\n",
       "      <td>56.035703</td>\n",
       "      <td>56.035703</td>\n",
       "      <td>56.035703</td>\n",
       "      <td>56.035703</td>\n",
       "    </tr>\n",
       "    <tr>\n",
       "      <th>3</th>\n",
       "      <td>47.770284</td>\n",
       "      <td>47.770284</td>\n",
       "      <td>47.770284</td>\n",
       "      <td>47.770284</td>\n",
       "      <td>47.770284</td>\n",
       "      <td>47.770284</td>\n",
       "      <td>47.770284</td>\n",
       "      <td>47.770284</td>\n",
       "      <td>47.770284</td>\n",
       "      <td>47.770284</td>\n",
       "      <td>...</td>\n",
       "      <td>65.893854</td>\n",
       "      <td>65.893854</td>\n",
       "      <td>65.893854</td>\n",
       "      <td>65.893854</td>\n",
       "      <td>65.893854</td>\n",
       "      <td>65.893854</td>\n",
       "      <td>65.893854</td>\n",
       "      <td>65.893854</td>\n",
       "      <td>65.893854</td>\n",
       "      <td>65.893854</td>\n",
       "    </tr>\n",
       "    <tr>\n",
       "      <th>4</th>\n",
       "      <td>53.141321</td>\n",
       "      <td>53.141321</td>\n",
       "      <td>53.141321</td>\n",
       "      <td>53.141321</td>\n",
       "      <td>53.141321</td>\n",
       "      <td>53.141321</td>\n",
       "      <td>53.141321</td>\n",
       "      <td>53.141321</td>\n",
       "      <td>53.141321</td>\n",
       "      <td>53.141321</td>\n",
       "      <td>...</td>\n",
       "      <td>80.386566</td>\n",
       "      <td>80.386566</td>\n",
       "      <td>80.386566</td>\n",
       "      <td>80.386566</td>\n",
       "      <td>80.386566</td>\n",
       "      <td>80.386566</td>\n",
       "      <td>80.386566</td>\n",
       "      <td>80.386566</td>\n",
       "      <td>80.386566</td>\n",
       "      <td>80.386566</td>\n",
       "    </tr>\n",
       "  </tbody>\n",
       "</table>\n",
       "<p>5 rows × 59 columns</p>\n",
       "</div>"
      ],
      "text/plain": [
       "   Corporate Credit Cards  Corporate Credit Cards - Credit  \\\n",
       "0                8.000000                         8.000000   \n",
       "1               36.633318                        36.633318   \n",
       "2               37.735925                        37.735925   \n",
       "3               47.770284                        47.770284   \n",
       "4               53.141321                        53.141321   \n",
       "\n",
       "   Corporate Credit Cards - Prepaid  Housing loans  Other loans    Leasing  \\\n",
       "0                          8.000000       8.000000     8.000000   8.000000   \n",
       "1                         36.633318      36.633318    36.633318  36.633318   \n",
       "2                         37.735925      37.735925    37.735925  37.735925   \n",
       "3                         47.770284      47.770284    47.770284  47.770284   \n",
       "4                         53.141321      53.141321    53.141321  53.141321   \n",
       "\n",
       "   Short-term loans  Supplier Finance  Distributor Fiannce  \\\n",
       "0          8.000000          8.000000             8.000000   \n",
       "1         36.633318         36.633318            36.633318   \n",
       "2         37.735925         37.735925            37.735925   \n",
       "3         47.770284         47.770284            47.770284   \n",
       "4         53.141321         53.141321            53.141321   \n",
       "\n",
       "   Investments (AMTC/BIMI)  ...  Auto loans  Operating lease  RPNL/STL/KNCL  \\\n",
       "0                 8.000000  ...   47.770284        47.770284      47.770284   \n",
       "1                36.633318  ...   53.141321        53.141321      53.141321   \n",
       "2                37.735925  ...   56.035703        56.035703      56.035703   \n",
       "3                47.770284  ...   65.893854        65.893854      65.893854   \n",
       "4                53.141321  ...   80.386566        80.386566      80.386566   \n",
       "\n",
       "   Bills purchased  Duties payment  Disbursements - government  \\\n",
       "0        47.770284       47.770284                   47.770284   \n",
       "1        53.141321       53.141321                   53.141321   \n",
       "2        56.035703       56.035703                   56.035703   \n",
       "3        65.893854       65.893854                   65.893854   \n",
       "4        80.386566       80.386566                   80.386566   \n",
       "\n",
       "   Disbursements - digital  Liquidity  Other current  Peso Time Deposit  \n",
       "0                47.770284  47.770284      47.770284          47.770284  \n",
       "1                53.141321  53.141321      53.141321          53.141321  \n",
       "2                56.035703  56.035703      56.035703          56.035703  \n",
       "3                65.893854  65.893854      65.893854          65.893854  \n",
       "4                80.386566  80.386566      80.386566          80.386566  \n",
       "\n",
       "[5 rows x 59 columns]"
      ]
     },
     "execution_count": 16,
     "metadata": {},
     "output_type": "execute_result"
    }
   ],
   "source": [
    "# Display the final DataFrame\n",
    "cproduct_df.head()"
   ]
  }
 ],
 "metadata": {
  "colab": {
   "include_colab_link": true,
   "provenance": []
  },
  "kernelspec": {
   "display_name": "Python 3 (ipykernel)",
   "language": "python",
   "name": "python3"
  },
  "language_info": {
   "codemirror_mode": {
    "name": "ipython",
    "version": 3
   },
   "file_extension": ".py",
   "mimetype": "text/x-python",
   "name": "python",
   "nbconvert_exporter": "python",
   "pygments_lexer": "ipython3",
   "version": "3.10.9"
  }
 },
 "nbformat": 4,
 "nbformat_minor": 5
}

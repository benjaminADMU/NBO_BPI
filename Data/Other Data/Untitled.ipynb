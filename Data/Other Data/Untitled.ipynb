{
 "cells": [
  {
   "cell_type": "code",
   "execution_count": 3,
   "id": "67a39992-43c3-41b6-b7bb-acebe88ff51a",
   "metadata": {},
   "outputs": [],
   "source": [
    "import pandas as pd"
   ]
  },
  {
   "cell_type": "code",
   "execution_count": 5,
   "id": "3cb2eb9a-3ed5-4c49-bcb5-9fc13fb4d397",
   "metadata": {},
   "outputs": [
    {
     "data": {
      "text/plain": [
       "Index(['CUST_NUM', 'PROVINCE', 'REGION', 'EDUCATION', 'AGE', 'TENURE',\n",
       "       'BUSINESS_OWNER', 'DIGITAL_FLAG', 'INCOME_SOURCE', 'IDV_OR_ORG',\n",
       "       'SUBSEGMENT', 'GENDER', 'MARITAL_STATUS'],\n",
       "      dtype='object')"
      ]
     },
     "execution_count": 5,
     "metadata": {},
     "output_type": "execute_result"
    }
   ],
   "source": [
    "pd.read_parquet('CUSTOMER INFO.parquet').columns"
   ]
  },
  {
   "cell_type": "code",
   "execution_count": null,
   "id": "08019c6a-695a-4277-90a1-e443acfe4816",
   "metadata": {},
   "outputs": [],
   "source": []
  }
 ],
 "metadata": {
  "kernelspec": {
   "display_name": "Python 3 (ipykernel)",
   "language": "python",
   "name": "python3"
  },
  "language_info": {
   "codemirror_mode": {
    "name": "ipython",
    "version": 3
   },
   "file_extension": ".py",
   "mimetype": "text/x-python",
   "name": "python",
   "nbconvert_exporter": "python",
   "pygments_lexer": "ipython3",
   "version": "3.10.9"
  }
 },
 "nbformat": 4,
 "nbformat_minor": 5
}
